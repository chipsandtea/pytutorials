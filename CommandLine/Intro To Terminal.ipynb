{
 "cells": [
  {
   "cell_type": "markdown",
   "metadata": {},
   "source": [
    "Introduction to Command Line\n",
    "======\n",
    "##### By: Christopher Hsiao (v1.0)"
   ]
  },
  {
   "cell_type": "markdown",
   "metadata": {},
   "source": [
    "## The Basics: Navigating Your System\n",
    "\n",
    "This lesson assumes knowledge and understanding of material that can be found from an article by [Team Treehouse](http://blog.teamtreehouse.com/introduction-to-the-mac-os-x-command-line). Please make sure to understand the material in this article regarding navigating your system through the terminal/command line interface.\n",
    "\n",
    ">For more hands on practice, open your own terminal window and run these commands yourself to get a better sense of how to navigate the system.\n",
    "\n",
    "Verify you know what `ls, pwd, cd, and man` do and how to use them.\n",
    "\n",
    "To access the cheatsheet, [Click Here](Terminal Commands Cheat Sheet.ipynb)\n",
    "\n",
    "## Table of Contents\n",
    "\n",
    "The commaonds we will cover here include:\n",
    "\n",
    "    echo, hostname, >, cat, mkdir, rmdir, rm, mv, cp, open,\n",
    "    touch, find, less, and sudo\n",
    "    \n",
    ">**Note:** Most of the code blocks start with `%%bash`. \"bash\" is the command line \"shell\" we generally work in, and `%%bash` is simply our way of letting the Jupyter notebook know and where to execute shell commands.\n",
    "\n",
    ">Understand this list is far from exhaustive. These commands were chosen due largely in part to their utility and enabling of other commands.\n",
    "\n",
    "---\n",
    "\n",
    "1. [echo](pages/echo.ipynb): print data to stdout\n",
    "2. [hostname](pages/hostname.ipynb): get the 'name' of your computer\n",
    "3. [>](pages/pipetofile.ipynb): redirects data into a file\n",
    "4. [cat](pages/cat.ipynb): prints a stream of data from a source\n",
    "5. [mkdir](pages/mkdir.ipynb): make a new directory\n",
    "6. [rmdir](pages/rmdir.ipynb): delete directories\n",
    "7. [rm](pages/rm.ipynb): delete files\n",
    "8. [mv](pages/mv.ipynb): moves files\n",
    "9. [cp](pages/cp.ipynb): copy files\n",
    "10. [open](pages/open.ipynb): open files\n",
    "11. [touch](pages/touch.ipynb): making empty files\n",
    "12. [find](pages/find.ipynb): find files/directories\n",
    "\n",
    "---\n",
    "\n",
    "### Terms to know\n",
    "**stdin/stdout**: stand for \"Standard Input\" and \"Standard Output\". `stdin` is data read from the command line, and `stdout` is data output to the command line.\n",
    "\n",
    "**filepath**: the "
   ]
  },
  {
   "cell_type": "code",
   "execution_count": null,
   "metadata": {
    "collapsed": true
   },
   "outputs": [],
   "source": []
  }
 ],
 "metadata": {
  "celltoolbar": "Raw Cell Format",
  "kernelspec": {
   "display_name": "Python 3",
   "language": "python",
   "name": "python3"
  },
  "language_info": {
   "codemirror_mode": {
    "name": "ipython",
    "version": 3
   },
   "file_extension": ".py",
   "mimetype": "text/x-python",
   "name": "python",
   "nbconvert_exporter": "python",
   "pygments_lexer": "ipython3",
   "version": "3.5.2"
  }
 },
 "nbformat": 4,
 "nbformat_minor": 0
}
