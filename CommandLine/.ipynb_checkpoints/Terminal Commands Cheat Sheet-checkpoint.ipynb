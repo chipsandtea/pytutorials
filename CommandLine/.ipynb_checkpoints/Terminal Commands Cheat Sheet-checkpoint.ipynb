{
 "cells": [
  {
   "cell_type": "markdown",
   "metadata": {},
   "source": [
    "# Terminal Commands Cheat Sheet\n",
    "\n",
    "A cheat sheet with command execution examples and small descriptions of command behavior. There are commands here not found on the tutorial.\n",
    "\n",
    ">This list is adapted from [Learn Code the Hard Way](http://cli.learncodethehardway.org/book/)\n",
    "\n",
    "\n",
    "**Print Working Directory (pwd)**\n",
    "    \n",
    "    pwd"
   ]
  },
  {
   "cell_type": "code",
   "execution_count": 3,
   "metadata": {
    "collapsed": false
   },
   "outputs": [
    {
     "name": "stdout",
     "output_type": "stream",
     "text": [
      "/Users/chsiao/Tutorials/notebooks/CommandLine\n"
     ]
    }
   ],
   "source": [
    "%%bash\n",
    "pwd"
   ]
  },
  {
   "cell_type": "markdown",
   "metadata": {},
   "source": [
    "**What's Your Computer's Name? (hostname)**\n",
    "    \n",
    "    hostname"
   ]
  },
  {
   "cell_type": "code",
   "execution_count": 4,
   "metadata": {
    "collapsed": false
   },
   "outputs": [
    {
     "name": "stdout",
     "output_type": "stream",
     "text": [
      "chsiaos-MacBook-Pro.local\n"
     ]
    }
   ],
   "source": [
    "%%bash\n",
    "hostname"
   ]
  },
  {
   "cell_type": "markdown",
   "metadata": {},
   "source": [
    "**Make Directory (mkdir)**\n",
    "\n",
    "    mkdir [new directory path]"
   ]
  },
  {
   "cell_type": "code",
   "execution_count": 32,
   "metadata": {
    "collapsed": false
   },
   "outputs": [
    {
     "name": "stdout",
     "output_type": "stream",
     "text": [
      "exampleDirectory\n"
     ]
    }
   ],
   "source": [
    "%%bash\n",
    "mkdir exampleDirectory\n",
    "ls"
   ]
  },
  {
   "cell_type": "markdown",
   "metadata": {},
   "source": [
    "**Change Directory (cd)**\n",
    "    \n",
    "    cd [target directory]"
   ]
  },
  {
   "cell_type": "code",
   "execution_count": 28,
   "metadata": {
    "collapsed": false,
    "scrolled": true
   },
   "outputs": [
    {
     "name": "stdout",
     "output_type": "stream",
     "text": [
      "/Users/chsiao/Tutorials/tutorials/CommandLine/Exercises\n",
      "/Users/chsiao/Tutorials/tutorials/CommandLine/Exercises/exampleDirectory\n"
     ]
    }
   ],
   "source": [
    "%%bash\n",
    "pwd\n",
    "cd exampleDirectory/\n",
    "pwd"
   ]
  },
  {
   "cell_type": "markdown",
   "metadata": {},
   "source": [
    "<div class=\"alert alert-info\">Note: <code>/../</code> represents the previous directory.</div>\n",
    "\n",
    "**List Directory (ls)**\n",
    "\n",
    "    ls"
   ]
  },
  {
   "cell_type": "code",
   "execution_count": 23,
   "metadata": {
    "collapsed": false
   },
   "outputs": [
    {
     "name": "stdout",
     "output_type": "stream",
     "text": [
      "exampleDirectory\n"
     ]
    }
   ],
   "source": [
    "%%bash\n",
    "ls"
   ]
  },
  {
   "cell_type": "markdown",
   "metadata": {},
   "source": [
    "**Remove Directory (rmdir)**\n",
    "\n",
    "    rmdir [target directory]\n",
    "\n",
    "<div class=\"alert alert-info\">Note: Directory must be empty!</div>\n",
    "\n",
    "If you want to remove a directory with files in it, use:\n",
    "\n",
    "    rm -rf [target directory/file]"
   ]
  },
  {
   "cell_type": "code",
   "execution_count": 33,
   "metadata": {
    "collapsed": false
   },
   "outputs": [],
   "source": [
    "%%bash\n",
    "rmdir exampleDirectory/\n",
    "ls"
   ]
  },
  {
   "cell_type": "markdown",
   "metadata": {},
   "source": [
    "**Making Empty Files (touch)**\n",
    "\n",
    "    touch [file name/file path]"
   ]
  },
  {
   "cell_type": "code",
   "execution_count": 37,
   "metadata": {
    "collapsed": false
   },
   "outputs": [
    {
     "name": "stdout",
     "output_type": "stream",
     "text": [
      "exampleFile.txt\n"
     ]
    }
   ],
   "source": [
    "%%bash\n",
    "touch exampleFile.txt\n",
    "ls"
   ]
  },
  {
   "cell_type": "markdown",
   "metadata": {},
   "source": [
    "**"
   ]
  }
 ],
 "metadata": {
  "kernelspec": {
   "display_name": "Python 3",
   "language": "python",
   "name": "python3"
  },
  "language_info": {
   "codemirror_mode": {
    "name": "ipython",
    "version": 3
   },
   "file_extension": ".py",
   "mimetype": "text/x-python",
   "name": "python",
   "nbconvert_exporter": "python",
   "pygments_lexer": "ipython3",
   "version": "3.5.2"
  }
 },
 "nbformat": 4,
 "nbformat_minor": 0
}
