{
 "cells": [
  {
   "cell_type": "markdown",
   "metadata": {},
   "source": [
    "## cp: copy files\n",
    "\n",
    "The `cp` command has two functionalities, much like the `mv` command. \n",
    "\n",
    "\n",
    ">1. Make a copy of a file at a target directory.\n",
    ">2. Copy the contents of one file to another.\n",
    "\n",
    "### 1. Make a copy of a file at a target directory.\n",
    "The nature of copying a file is (hopefully) somewhat intuitive. After a call to this command, two instances of the file will exist in separate directories. The syntax is as follows:\n",
    "\n",
    "    cp [file1] [file2] ... [file n] [directory]\n",
    "    \n",
    "Which allows us to copy as many files as we want to to a target directory. Let's try this by making a directory called cpDemo, then copying `pwd.txt` into it. "
   ]
  },
  {
   "cell_type": "code",
   "execution_count": 4,
   "metadata": {
    "collapsed": false
   },
   "outputs": [
    {
     "name": "stdout",
     "output_type": "stream",
     "text": [
      "pwd.txt -> cpDemo/pwd.txt\n"
     ]
    }
   ],
   "source": [
    "%%bash\n",
    "mkdir cpDemo\n",
    "cp -v pwd.txt cpDemo"
   ]
  },
  {
   "cell_type": "markdown",
   "metadata": {},
   "source": [
    "As we can see, the output from the `-v` option tells us that `pwd.txt` has been copied into the directory cpDemo. We can verify that `pwd.txt` still exists in our current directory as well."
   ]
  },
  {
   "cell_type": "code",
   "execution_count": 5,
   "metadata": {
    "collapsed": false
   },
   "outputs": [
    {
     "name": "stdout",
     "output_type": "stream",
     "text": [
      "cpDemo\n",
      "pwd.txt\n"
     ]
    }
   ],
   "source": [
    "%%bash\n",
    "ls"
   ]
  },
  {
   "cell_type": "markdown",
   "metadata": {},
   "source": [
    "### 2. Copy the contents of a file to another\n",
    "Recall that for `mv`, our source file (the one we were taking the data from) was actually deleted after the call. `cp`, on the other hand, simply duplicates the contents of the source file, and replaces the contents of the destination file. The syntax is as follows:\n",
    "    \n",
    "    cp [source file] [destination file] \n",
    "    \n"
   ]
  }
 ],
 "metadata": {
  "kernelspec": {
   "display_name": "Python 3",
   "language": "python",
   "name": "python3"
  },
  "language_info": {
   "codemirror_mode": {
    "name": "ipython",
    "version": 3
   },
   "file_extension": ".py",
   "mimetype": "text/x-python",
   "name": "python",
   "nbconvert_exporter": "python",
   "pygments_lexer": "ipython3",
   "version": "3.5.2"
  }
 },
 "nbformat": 4,
 "nbformat_minor": 0
}
