{
 "cells": [
  {
   "cell_type": "markdown",
   "metadata": {},
   "source": [
    "## cp: copy files\n",
    "\n",
    "The `cp` command has two functionalities, much like the `mv` command. \n",
    "\n",
    "<div class=\"alert alert-info\">\n",
    "1. Make a copy of a file at a target directory.<br/>\n",
    "2. Copy the contents of one file to another.</div>\n",
    "\n",
    "### 1. Make a copy of a file at a target directory.\n",
    "The nature of copying a file is (hopefully) somewhat intuitive. After a call to this command, two instances of the file will exist in separate directories. The syntax is as follows:\n",
    "\n",
    "    cp [file1] [file2] ... [file n] [directory]\n",
    "    \n",
    "Which allows us to copy as many files as we want to to a target directory. Let's try this by making a directory called cpDemo, then copying `pwd.txt` into it. "
   ]
  },
  {
   "cell_type": "code",
   "execution_count": 4,
   "metadata": {
    "collapsed": false
   },
   "outputs": [
    {
     "name": "stdout",
     "output_type": "stream",
     "text": [
      "pwd.txt -> cpDemo/pwd.txt\n"
     ]
    }
   ],
   "source": [
    "%%bash\n",
    "mkdir cpDemo\n",
    "cp -v pwd.txt cpDemo"
   ]
  },
  {
   "cell_type": "markdown",
   "metadata": {},
   "source": [
    "<div class=\"alert alert-success\">As we can see, the output from the <code>-v</code> option tells us that <code>pwd.txt</code> has been copied into the directory cpDemo. We can verify that <code>pwd.txt</code> still exists in our current directory as well.</div>"
   ]
  },
  {
   "cell_type": "code",
   "execution_count": 5,
   "metadata": {
    "collapsed": false
   },
   "outputs": [
    {
     "name": "stdout",
     "output_type": "stream",
     "text": [
      "cpDemo\n",
      "pwd.txt\n"
     ]
    }
   ],
   "source": [
    "%%bash\n",
    "ls"
   ]
  },
  {
   "cell_type": "markdown",
   "metadata": {},
   "source": [
    "### 2. Copy the contents of a file to another\n",
    "</br>\n",
    "<div class=\"alert alert-info\">Recall that for <code>mv</code>, our source file (the one we were taking the data from) was actually deleted after the call.</div> \n",
    "\n",
    "`cp`, on the other hand, simply duplicates the contents of the source file, and replaces the contents of the destination file. The syntax is as follows:\n",
    "    \n",
    "    cp [source file] [destination file] \n",
    "    \n",
    "Since we got rid of `hello.txt` earlier, let's remake it and try copying the contents of `hello.txt` to `pwd.txt`. We also need to reset the contents of `pwd.txt` from earlier. \n",
    "\n"
   ]
  },
  {
   "cell_type": "code",
   "execution_count": 6,
   "metadata": {
    "collapsed": false
   },
   "outputs": [
    {
     "name": "stdout",
     "output_type": "stream",
     "text": [
      "Hello OpenDNS!\n",
      "/Users/chsiao/Tutorials/notebooks/CommandLine/pages/playground\n"
     ]
    }
   ],
   "source": [
    "%%bash\n",
    "echo \"Hello OpenDNS!\" > hello.txt\n",
    "pwd > pwd.txt\n",
    "cat hello.txt pwd.txt"
   ]
  },
  {
   "cell_type": "markdown",
   "metadata": {},
   "source": [
    "Great! We've verified the contents of our two files. Now let's try `hello.txt`'s contents to `pwd.txt`."
   ]
  },
  {
   "cell_type": "code",
   "execution_count": 7,
   "metadata": {
    "collapsed": false
   },
   "outputs": [
    {
     "name": "stdout",
     "output_type": "stream",
     "text": [
      "hello.txt -> pwd.txt\n",
      "Hello OpenDNS!\n"
     ]
    }
   ],
   "source": [
    "%%bash\n",
    "cp -v hello.txt pwd.txt\n",
    "cat pwd.txt"
   ]
  },
  {
   "cell_type": "markdown",
   "metadata": {},
   "source": [
    "<div class=\"alert alert-success\">As you can see, <code>cp -v</code> successfully copies the contents of <code>hello.txt</code> to <code>pwd.txt</code>, and we verify this with <code>cat</code>.</div>\n",
    "\n",
    "---\n",
    "\n",
    "Click [Here](open.ipynb) to go to the next page.\n",
    "Click [Here](../Intro To Terminal.ipynb) to return to the main guide.\n"
   ]
  }
 ],
 "metadata": {
  "kernelspec": {
   "display_name": "Python 3",
   "language": "python",
   "name": "python3"
  },
  "language_info": {
   "codemirror_mode": {
    "name": "ipython",
    "version": 3
   },
   "file_extension": ".py",
   "mimetype": "text/x-python",
   "name": "python",
   "nbconvert_exporter": "python",
   "pygments_lexer": "ipython3",
   "version": "3.5.2"
  }
 },
 "nbformat": 4,
 "nbformat_minor": 0
}
