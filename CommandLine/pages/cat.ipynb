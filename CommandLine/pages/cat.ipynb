{
 "cells": [
  {
   "cell_type": "markdown",
   "metadata": {},
   "source": [
    "## cat: Print to stdout from a data source\n",
    "\n",
    "The `cat` command reads from a data source (typically a file), and prints that data to `stdout`.\n",
    "<br\\><br\\>\n",
    "<div class=\"alert alert-info\">\n",
    "Recall the file <code>hello.txt</code> we made in the previous tutorial (using `echo` and `>`). We'll now explore a very useful command for reading the contents of that <code>hello.txt</code> file.</div>\n",
    "\n",
    "The syntax for the `cat` command is as follows\n",
    "\n",
    "    cat [file 1] [file 2] ... [file n]\n",
    "\n",
    "What this means is you can string together as many files as you'd like, and `cat` will print the contents of all of them in sequential order."
   ]
  },
  {
   "cell_type": "code",
   "execution_count": 2,
   "metadata": {
    "collapsed": false
   },
   "outputs": [
    {
     "name": "stdout",
     "output_type": "stream",
     "text": [
      "Hello OpenDNS!\n"
     ]
    }
   ],
   "source": [
    "%%bash\n",
    "cat hello.txt"
   ]
  },
  {
   "cell_type": "markdown",
   "metadata": {},
   "source": [
    "Now let's try stringing together the `hello.txt` file with the `pwd.txt` file we created in the previous tutorial."
   ]
  },
  {
   "cell_type": "code",
   "execution_count": 3,
   "metadata": {
    "collapsed": false
   },
   "outputs": [
    {
     "name": "stdout",
     "output_type": "stream",
     "text": [
      "Hello OpenDNS!\n",
      "/Users/chsiao/Tutorials/notebooks/CommandLine/pages\n"
     ]
    }
   ],
   "source": [
    "%%bash\n",
    "cat hello.txt pwd.txt"
   ]
  },
  {
   "cell_type": "markdown",
   "metadata": {},
   "source": [
    "<div class=\"alert alert-success\">As you can see, the contents of both files were read onto the screen, separated by a new line. Try running these commands yourself to get a feel for how things work.</div>\n",
    "\n",
    "---\n",
    "\n",
    "Click [Here](mkdir.ipynb) to go to the next page.\n",
    "Click [Here](../Intro To Terminal.ipynb) to return to the main guide."
   ]
  }
 ],
 "metadata": {
  "kernelspec": {
   "display_name": "Python 3",
   "language": "python",
   "name": "python3"
  },
  "language_info": {
   "codemirror_mode": {
    "name": "ipython",
    "version": 3
   },
   "file_extension": ".py",
   "mimetype": "text/x-python",
   "name": "python",
   "nbconvert_exporter": "python",
   "pygments_lexer": "ipython3",
   "version": "3.5.2"
  }
 },
 "nbformat": 4,
 "nbformat_minor": 0
}
