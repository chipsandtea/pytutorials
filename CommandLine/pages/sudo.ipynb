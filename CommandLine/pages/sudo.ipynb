{
 "cells": [
  {
   "cell_type": "markdown",
   "metadata": {},
   "source": [
    "## sudo: root access\n",
    "\n",
    "The `sudo` command allows the user to execute commands with the security priviledges of another user. Generally, this means the permissions level of the `superuser`. In fact, the name is derived from \"superuser do\". Having the level of permissions as the `superuser` is known as having `root access`.\n",
    "\n",
    "### Warning:\n",
    "\n",
    "<div class=\"alert alert-success\"><b>The Good:</b> Often, there are safe packages or modules that you'd like to install that require a higher degree of security clearance in order to either be installed or operate. Sometimes you just want to execute a command. <code>sudo</code> will always request your machines administrative password, so there's no chance of you installing something accidentally.</div>\n",
    "\n",
    "<div class=\"alert alert-danger\"><b>The Bad:</b> This doesn't mean you should simply allow programs that degree of permissions without good reason! Only use this command if you are positive that the command you are trying to execute or the program you're trying to install is safe!</div>\n",
    "\n",
    "Let's look at an example of a command that is generally prohibited. We'll add an empty file using `touch` to our home directory `(~/)` parent."
   ]
  },
  {
   "cell_type": "code",
   "execution_count": 1,
   "metadata": {
    "collapsed": false
   },
   "outputs": [
    {
     "name": "stdout",
     "output_type": "stream",
     "text": [
      "/Users\n"
     ]
    }
   ],
   "source": [
    "%%bash\n",
    "cd ~/..\n",
    "pwd"
   ]
  },
  {
   "cell_type": "markdown",
   "metadata": {},
   "source": [
    "So we're here! Generally speaking there isn't often much you'd be doing this far back in your computer. Let's try using `touch` to add a file called `hello.txt` to this directory."
   ]
  },
  {
   "cell_type": "code",
   "execution_count": 10,
   "metadata": {
    "collapsed": false
   },
   "outputs": [
    {
     "name": "stderr",
     "output_type": "stream",
     "text": [
      "touch: hello.txt: Permission denied\n"
     ]
    }
   ],
   "source": [
    "%%bash\n",
    "touch hello.txt"
   ]
  },
  {
   "cell_type": "markdown",
   "metadata": {},
   "source": [
    "We were denied permission! Blasphemy, you might say. To be honest, it's generally for your own good as the end user, since there is a lot that can go wrong at this level. That being said, let's override it anyway and use `sudo` to get `root access`.\n",
    "\n",
    "<br/>\n",
    "<div class=\"alert alert-warning\">We'll be using screenshots, because there isn't an interface for me to type in my password through this notebook</div>\n",
    "\n",
    "#### Running sudo\n",
    "\n",
    "![sudo demo](images/sudodemo.png \"sudo demonstration\")\n",
    "<br/>\n",
    "\n",
    "<div class=\"alert alert-success\">It worked! Note that the console doesn't actually respond to you typing in your password, just have faith that you're typing it correctly!</div>\n",
    "\n",
    "---\n",
    "\n",
    "Click [Here](../index.ipynb) to return to the main guide.\n"
   ]
  }
 ],
 "metadata": {
  "kernelspec": {
   "display_name": "Python 3",
   "language": "python",
   "name": "python3"
  },
  "language_info": {
   "codemirror_mode": {
    "name": "ipython",
    "version": 3
   },
   "file_extension": ".py",
   "mimetype": "text/x-python",
   "name": "python",
   "nbconvert_exporter": "python",
   "pygments_lexer": "ipython3",
   "version": "3.5.2"
  }
 },
 "nbformat": 4,
 "nbformat_minor": 0
}
