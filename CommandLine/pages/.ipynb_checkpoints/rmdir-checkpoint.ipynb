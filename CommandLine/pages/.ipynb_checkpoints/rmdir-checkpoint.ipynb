{
 "cells": [
  {
   "cell_type": "markdown",
   "metadata": {},
   "source": [
    "## rmdir: delete a directory\n",
    "\n",
    "The `rmdir` command deletes a specified directory. The syntax for this operation is as follows.\n",
    "\n",
    "    rmdir [filepath]\n",
    "    \n",
    "So let's give it a try in the `playground` folder we just made. We'll first make a folder called `toBeDeleted`, and subsequently delete it!"
   ]
  },
  {
   "cell_type": "code",
   "execution_count": 17,
   "metadata": {
    "collapsed": false
   },
   "outputs": [
    {
     "name": "stdout",
     "output_type": "stream",
     "text": [
      "toBeDeleted\n"
     ]
    }
   ],
   "source": [
    "%%bash\n",
    "cd playground\n",
    "mkdir toBeDeleted\n",
    "ls\n",
    "rmdir toBeDeleted\n",
    "ls"
   ]
  },
  {
   "cell_type": "markdown",
   "metadata": {},
   "source": [
    "The first `ls` call prints `toBeDeleted`, which means that there is a single file in the `playground` folder, namely a directory called `toBeDeleted`. The filepath for this folder is `.../playground/toBeDeleted/`\n",
    "\n",
    "Now let's make a folder with some files within it, and then see what happens when we attempt to delete that folder in its entirety."
   ]
  },
  {
   "cell_type": "code",
   "execution_count": 18,
   "metadata": {
    "collapsed": false
   },
   "outputs": [
    {
     "name": "stderr",
     "output_type": "stream",
     "text": [
      "rmdir: folderWithStuff: Directory not empty\n"
     ]
    }
   ],
   "source": [
    "%%bash\n",
    "cd playground\n",
    "mkdir folderWithStuff\n",
    "echo \"Hello, OpenDNS!\" > folderWithStuff/hello.txt\n",
    "rmdir folderWithStuff"
   ]
  },
  {
   "cell_type": "markdown",
   "metadata": {},
   "source": [
    "So we make a directory called `folderWithStuff`, and use make a file called `hello.txt` within it by piping the output of `echo \"Hello, OpenDNS!\"` into it. Afterwards, we attempt to delete the directory `folderWithStuff`.\n",
    "\n",
    "</br>\n",
    "<div class=\"alert alert-info\">The command line spits out an error letting us know that the directory is not empty. The takeaway here is that it's impossible to delete a directory that contains files.</div>\n",
    "\n",
    "We'll learn how to delete files in the next tutorial.\n",
    "\n",
    "---\n",
    "\n",
    "[Next Section](rm.ipynb)\n",
    "\n",
    "[Return to Main Page](../Intro.ipynb)"
   ]
  }
 ],
 "metadata": {
  "kernelspec": {
   "display_name": "Python 3",
   "language": "python",
   "name": "python3"
  },
  "language_info": {
   "codemirror_mode": {
    "name": "ipython",
    "version": 3
   },
   "file_extension": ".py",
   "mimetype": "text/x-python",
   "name": "python",
   "nbconvert_exporter": "python",
   "pygments_lexer": "ipython3",
   "version": "3.5.2"
  }
 },
 "nbformat": 4,
 "nbformat_minor": 0
}
