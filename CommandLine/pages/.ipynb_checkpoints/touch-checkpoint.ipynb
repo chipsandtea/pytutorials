{
 "cells": [
  {
   "cell_type": "markdown",
   "metadata": {},
   "source": [
    "## touch: make empty files\n",
    "\n",
    "The `touch` command is extremely straight forward. Simply put, it will create an empty file at the filepath of your choosing. Defaults to current directory if just a filename is provided. The syntax is as follows:\n",
    "\n",
    "    touch [filepath]\n",
    "    \n",
    "Just to see what's in our playground directory first:"
   ]
  },
  {
   "cell_type": "code",
   "execution_count": 10,
   "metadata": {
    "collapsed": false
   },
   "outputs": [
    {
     "name": "stdout",
     "output_type": "stream",
     "text": [
      "cpDemo\n",
      "hello.txt\n",
      "pwd.txt\n"
     ]
    }
   ],
   "source": [
    "%%bash\n",
    "ls"
   ]
  },
  {
   "cell_type": "markdown",
   "metadata": {},
   "source": [
    "And after calling `touch`..."
   ]
  },
  {
   "cell_type": "code",
   "execution_count": 4,
   "metadata": {
    "collapsed": false
   },
   "outputs": [],
   "source": [
    "%%bash\n",
    "touch newFile.txt"
   ]
  },
  {
   "cell_type": "markdown",
   "metadata": {},
   "source": [
    "Let's verify whether or not the file is actually empty."
   ]
  },
  {
   "cell_type": "code",
   "execution_count": 14,
   "metadata": {
    "collapsed": true
   },
   "outputs": [],
   "source": [
    "%%bash\n",
    "cat newFile.txt"
   ]
  },
  {
   "cell_type": "markdown",
   "metadata": {},
   "source": [
    "<div class=\"alert alert-success\">Great! No output means that there's no data in the file.</div>\n",
    "\n",
    "---\n",
    "\n",
    "Click [Here](find.ipynb) to go to the next page.\n",
    "Click [Here](../Intro To Terminal.ipynb) to return to the main guide.\n"
   ]
  }
 ],
 "metadata": {
  "kernelspec": {
   "display_name": "Python 3",
   "language": "python",
   "name": "python3"
  },
  "language_info": {
   "codemirror_mode": {
    "name": "ipython",
    "version": 3
   },
   "file_extension": ".py",
   "mimetype": "text/x-python",
   "name": "python",
   "nbconvert_exporter": "python",
   "pygments_lexer": "ipython3",
   "version": "3.5.2"
  }
 },
 "nbformat": 4,
 "nbformat_minor": 0
}
