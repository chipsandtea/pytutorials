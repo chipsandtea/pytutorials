{
 "cells": [
  {
   "cell_type": "markdown",
   "metadata": {},
   "source": [
    "### open: open files/directories\n",
    "\n",
    "The `echo` command open directories (using Finder) or files using their default program. This is a very simple, but particularly helpful command \n",
    "\n",
    "Since it is difficult to illustrate this, it's highly recommended for you to try this yourself.\n",
    "\n",
    "To open the current directory, use\n",
    "\n",
    "    open .\n",
    "    \n",
    "To open any directory, use\n",
    "\n",
    "    open [directory]\n",
    "\n",
    "And to open a file, use\n",
    "\n",
    "    open [file path]\n",
    "    \n",
    "---\n",
    "\n",
    "Click [Here](find.ipynb) to go to the next page.\n",
    "Click [Here](../Intro To Terminal.ipynb) to return to the main guide.\n"
   ]
  }
 ],
 "metadata": {
  "kernelspec": {
   "display_name": "Python 3",
   "language": "python",
   "name": "python3"
  },
  "language_info": {
   "codemirror_mode": {
    "name": "ipython",
    "version": 3
   },
   "file_extension": ".py",
   "mimetype": "text/x-python",
   "name": "python",
   "nbconvert_exporter": "python",
   "pygments_lexer": "ipython3",
   "version": "3.5.2"
  }
 },
 "nbformat": 4,
 "nbformat_minor": 0
}
