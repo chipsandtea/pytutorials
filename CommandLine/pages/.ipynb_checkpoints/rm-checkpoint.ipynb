{
 "cells": [
  {
   "cell_type": "markdown",
   "metadata": {},
   "source": [
    "## rm: delete a file\n",
    "\n",
    "The `rm` command deletes files, simple as that. Let's give it a try!\n",
    "\n",
    "<br/>\n",
    "<div class=\"alert alert-info\">Recall the folder <code>folderWithStuff</code> we made in the previous exercise, and how it had a file in it called <code>hello.txt</code>. When we tried to delete <code>folderWithStuff</code>, but we ran into an error letting us know that the directory is not empty.</div>\n",
    "\n",
    "So let's delete the file inhibiting us from deleting `folderWithStuff`, and then delete `folderWithStuff`."
   ]
  },
  {
   "cell_type": "code",
   "execution_count": 4,
   "metadata": {
    "collapsed": false
   },
   "outputs": [],
   "source": [
    "%%bash\n",
    "cd playground/folderWithStuff\n",
    "rm hello.txt\n",
    "cd ..\n",
    "rmdir folderWithStuff\n",
    "ls"
   ]
  },
  {
   "cell_type": "markdown",
   "metadata": {},
   "source": [
    "So we enter `folderWithStuff`, delete `hello.txt`, exit `folderWithStuff` to its parent directory, delete `folderWithStuff`, and we won't get an error.\n",
    "\n",
    "<br/>\n",
    "<div class=\"alert alert-success\">\n",
    "Success! As we can see, the `ls` call doesn't print anything out, since `folderWithStuff` was the only existing folder/file, so when it's deleted, there's nothing left for `ls` to return.</div>"
   ]
  },
  {
   "cell_type": "markdown",
   "metadata": {},
   "source": [
    "---\n",
    "\n",
    "Click [Here](mv.ipynb) to go to the next page.\n",
    "Click [Here](../Intro To Terminal.ipynb) to return to the main guide."
   ]
  }
 ],
 "metadata": {
  "kernelspec": {
   "display_name": "Python 3",
   "language": "python",
   "name": "python3"
  },
  "language_info": {
   "codemirror_mode": {
    "name": "ipython",
    "version": 3
   },
   "file_extension": ".py",
   "mimetype": "text/x-python",
   "name": "python",
   "nbconvert_exporter": "python",
   "pygments_lexer": "ipython3",
   "version": "3.5.2"
  }
 },
 "nbformat": 4,
 "nbformat_minor": 0
}
