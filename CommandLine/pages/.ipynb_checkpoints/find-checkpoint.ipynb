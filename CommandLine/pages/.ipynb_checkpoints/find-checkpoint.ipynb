{
 "cells": [
  {
   "cell_type": "markdown",
   "metadata": {
    "collapsed": true
   },
   "source": [
    "## find: search for and locate files \n",
    "\n",
    "The `find` command is a little finicky for some applications, mainly because of its usage in conjunction with [Regular Expressions](https://en.wikipedia.org/wiki/Regular_expression). \n",
    "\n",
    "</br>\n",
    "<div class=\"alert alert-info\">Sometimes (or perhaps even more often), regular expressions are referred to as Regex's. In essence, Regex's describe a pattern of a string, and in conjunction with some search function, will attempt to locate strings that fit the described format. </div>\n",
    "\n",
    "There are a lot of fantastic online resources to learn Regex's, but for now we will stick to some the most basic form in order to first get a feel for the `find` operation.\n",
    "\n",
    "The syntax for a find operation can take two common forms.\n",
    "\n",
    "    find [path ...] [regex]\n",
    "\n",
    "    find [regex] \n",
    "    \n",
    "The first allows for specification of which directories the `find` function should search in.\n",
    "\n",
    "Omitting the path(s) simply has the `find` function search in the current working directory (output of `pwd`).\n",
    "\n",
    "Let's take a look at the contents of our playground directory."
   ]
  },
  {
   "cell_type": "code",
   "execution_count": 7,
   "metadata": {
    "collapsed": false
   },
   "outputs": [
    {
     "name": "stdout",
     "output_type": "stream",
     "text": [
      "cpDemo\n",
      "hello.txt\n",
      "newFile.txt\n",
      "pwd.txt\n"
     ]
    }
   ],
   "source": [
    "%%bash\n",
    "ls"
   ]
  },
  {
   "cell_type": "markdown",
   "metadata": {},
   "source": [
    "<div class=\"alert alert-info\">Observe that we have two types of things in our <code>/playground/</code> directory. First is <code>.txt</code> files, and the second is a directory <code>/cpDemo/</code> we made in a previous tutorial.</div>\n",
    "\n",
    "Let's say we want to discover all the <code>.txt</code> files in this directory. First, we need to think of the format that these text file names fall under.\n",
    "\n",
    "    [something].txt\n",
    "    \n",
    "Notice how all of the text files end in `.txt`, which implies to us that what's actually the determining factor in the filetype is the characters after the `'.'` . \n",
    "\n",
    "For us to describe such a filetype, we will use the `'*'` operator. In regex (and many other other applications you may run into), the `'*'` means \"anything goes\". This means anything can be in the place of the `'*'`. Our regex thus takes the form `\"*.txt\"` . Let's give it a try."
   ]
  },
  {
   "cell_type": "code",
   "execution_count": 6,
   "metadata": {
    "collapsed": false
   },
   "outputs": [
    {
     "name": "stdout",
     "output_type": "stream",
     "text": [
      "hello.txt\n",
      "newFile.txt\n",
      "pwd.txt\n"
     ]
    }
   ],
   "source": [
    "%%bash\n",
    "find *.txt"
   ]
  },
  {
   "cell_type": "markdown",
   "metadata": {},
   "source": [
    "<div class=\"alert alert-success\">And as you can see, only the files that fit our format of <code>[something].txt</code> were selected. More specifically, only files that fit our <i>regex:</i>  <code>*.txt</code>  were selected.</div>\n",
    "\n",
    "</br>\n",
    "<div class=\"alert alert-warning\">Of course, you may encounter situations where file formats won't be as easily expressed. Tasks like verifying formatting of IPv6 addresses, extracting email information from a list, etc, are all very common tasks. That being said however, if you really don't want to learn regular expressions, it's honestly not the end of the world. Many common Regular Expressions are available online, just a Google search away. </div>"
   ]
  },
  {
   "cell_type": "markdown",
   "metadata": {},
   "source": [
    "---\n",
    "\n",
    "[Next Section](sudo.ipynb)\n",
    "\n",
    "[Return to Main Page](../Intro.ipynb)\n"
   ]
  }
 ],
 "metadata": {
  "kernelspec": {
   "display_name": "Python 3",
   "language": "python",
   "name": "python3"
  },
  "language_info": {
   "codemirror_mode": {
    "name": "ipython",
    "version": 3
   },
   "file_extension": ".py",
   "mimetype": "text/x-python",
   "name": "python",
   "nbconvert_exporter": "python",
   "pygments_lexer": "ipython3",
   "version": "3.5.2"
  }
 },
 "nbformat": 4,
 "nbformat_minor": 0
}
