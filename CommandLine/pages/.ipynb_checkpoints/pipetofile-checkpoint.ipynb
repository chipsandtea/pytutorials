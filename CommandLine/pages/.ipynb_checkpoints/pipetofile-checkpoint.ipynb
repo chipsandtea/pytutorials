{
 "cells": [
  {
   "cell_type": "markdown",
   "metadata": {},
   "source": [
    "## > : Piping data to a new file\n",
    "\n",
    "The `>` operator is used to pipe output to a file. The concept of using a `'piping` will be more fleshed out later for stringing together multiple commands. \n",
    "\n",
    "The syntax for using the `>` operator is as follows:\n",
    "\n",
    "`command > filepath/filename`\n",
    "\n",
    "If a filepath is not specified, the file will be placed in the current directory.\n",
    "\n",
    "We'll be using the `echo` command taught earlier, and piping its output to a file, instead of stdout."
   ]
  },
  {
   "cell_type": "code",
   "execution_count": 3,
   "metadata": {
    "collapsed": false
   },
   "outputs": [],
   "source": [
    "%%bash\n",
    "echo \"Hello OpenDNS!\" > hello.txt"
   ]
  },
  {
   "cell_type": "markdown",
   "metadata": {},
   "source": [
    "This created a text file `hello.txt` to our current working directory.\n",
    "\n",
    "Keep in mind this works for all sorts of commands that produce some output! For example, let's try it with the `pwd` command."
   ]
  },
  {
   "cell_type": "code",
   "execution_count": 4,
   "metadata": {
    "collapsed": true
   },
   "outputs": [],
   "source": [
    "%%bash\n",
    "pwd > pwd.txt"
   ]
  },
  {
   "cell_type": "markdown",
   "metadata": {},
   "source": [
    "Give this command a try, but keep in mind we don't want to create too many files all over the place! Don't fret, we'll learn how to deal with files (file deletions specifically) later.\n",
    "\n",
    "---\n",
    "\n",
    "Click [Here](cat.ipynb) to go to the next page.\n",
    "\n",
    "Click [Here](../Intro To Terminal.ipynb) to return to the main guide.\n"
   ]
  }
 ],
 "metadata": {
  "kernelspec": {
   "display_name": "Python 3",
   "language": "python",
   "name": "python3"
  },
  "language_info": {
   "codemirror_mode": {
    "name": "ipython",
    "version": 3
   },
   "file_extension": ".py",
   "mimetype": "text/x-python",
   "name": "python",
   "nbconvert_exporter": "python",
   "pygments_lexer": "ipython3",
   "version": "3.5.2"
  }
 },
 "nbformat": 4,
 "nbformat_minor": 0
}
