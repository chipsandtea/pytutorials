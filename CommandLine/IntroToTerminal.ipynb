{
 "cells": [
  {
   "cell_type": "markdown",
   "metadata": {},
   "source": [
    "Introduction to Command Line\n",
    "======\n",
    "##### By: Christopher Hsiao"
   ]
  },
  {
   "cell_type": "markdown",
   "metadata": {},
   "source": [
    "**NOTE:** This lesson is partially adapted from an article by [Team Treehouse](blog.teamtreehouse.com/introduction-to-the-mac-os-x-command-line). It is recommended to visit the original write up for questions about the initial lessons in this tutorial\n",
    "\n",
    "## The Basics: Navigating Your System\n",
    "These lessons will be first covering the basics of how to navigate our system through the command line interface. \n",
    "\n",
    ">For more hands on practice, open your own terminal window and run these commands yourself to get a better sense of how to navigate the system.\n",
    "\n",
    "### Running a Command\n",
    "Commands consist of three main parts: the program, the options, and the arguments.\n"
   ]
  },
  {
   "cell_type": "code",
   "execution_count": 33,
   "metadata": {
    "collapsed": false,
    "scrolled": false
   },
   "outputs": [
    {
     "name": "stdout",
     "output_type": "stream",
     "text": [
      "total 24\n",
      "-rw-r--r--  1 Christopher  staff  3596 Aug  4 15:21 IntroToTerminal.ipynb\n",
      "-rw-r--r--  1 Christopher  staff   353 Aug  4 13:35 cmdTutText.json\n",
      "-rw-r--r--  1 Christopher  staff   825 Aug  3 16:03 commandline.py\n"
     ]
    }
   ],
   "source": [
    "%%bash\n",
    "ls -l ../CommandLine"
   ]
  },
  {
   "cell_type": "markdown",
   "metadata": {},
   "source": [
    "In this case, the command consists of three parts.\n",
    "\n",
    "`ls` : is the 'verb' of the program. It is shorthand for 'list', and it shows a list of the files at a certain location on the computer.\n",
    "\n",
    "`-l` : is the option. It acts as an adverb and modifies the function of the program. In this case, `-l` stands for 'long', and displays more detailed information. Not using `-l` simply displays the filenames of the directory.\n",
    "\n",
    "`../CommandLine` : is the argument. There can be more arguments depending on the program, but `ls` only takes one. In this case, our argument is the location of some directory on our computer. `..` denotes the parent directory, which means we're saying to exit the current directory, then head into the folder `/CommandLine`.\n",
    "\n",
    "**Directory Notes:** \n",
    "\n",
    "If you do not specify a directory (i.e `ls -l` being the whole command), then  the `ls` program will default to the current directory."
   ]
  },
  {
   "cell_type": "code",
   "execution_count": 37,
   "metadata": {
    "collapsed": false
   },
   "outputs": [
    {
     "name": "stdout",
     "output_type": "stream",
     "text": [
      "total 32\r\n",
      "-rw-r--r--  1 Christopher  staff  4247 Aug  4 15:34 IntroToTerminal.ipynb\r\n",
      "-rw-r--r--  1 Christopher  staff   353 Aug  4 13:35 cmdTutText.json\r\n",
      "-rw-r--r--  1 Christopher  staff   825 Aug  3 16:03 commandline.py\r\n"
     ]
    }
   ],
   "source": [
    "ls -l"
   ]
  },
  {
   "cell_type": "markdown",
   "metadata": {},
   "source": [
    "### Where are we? (pwd)\n",
    "So what if you need to know what directory you're currently in? Knowing the directory you're in is crucial to navigating through your system. We use the `pwd` command."
   ]
  },
  {
   "cell_type": "code",
   "execution_count": 36,
   "metadata": {
    "collapsed": false
   },
   "outputs": [
    {
     "name": "stdout",
     "output_type": "stream",
     "text": [
      "/Users/Christopher/Documents/Professional/OpenDNS/tutorials/CommandLine\n",
      "/Users/Christopher\n"
     ]
    }
   ],
   "source": [
    "%%bash\n",
    "pwd\n",
    "\n",
    "cd ~/\n",
    "pwd"
   ]
  },
  {
   "cell_type": "markdown",
   "metadata": {},
   "source": [
    "### How do we to get where we want to be? (cd)\n",
    "Now we know how to see where we are, and we can also see what is in certain directories.\n",
    "\n",
    "Now we need a way to change directories. For this "
   ]
  },
  {
   "cell_type": "code",
   "execution_count": null,
   "metadata": {
    "collapsed": true
   },
   "outputs": [],
   "source": []
  }
 ],
 "metadata": {
  "celltoolbar": "Raw Cell Format",
  "kernelspec": {
   "display_name": "Python 3",
   "language": "python",
   "name": "python3"
  },
  "language_info": {
   "codemirror_mode": {
    "name": "ipython",
    "version": 3
   },
   "file_extension": ".py",
   "mimetype": "text/x-python",
   "name": "python",
   "nbconvert_exporter": "python",
   "pygments_lexer": "ipython3",
   "version": "3.5.2"
  }
 },
 "nbformat": 4,
 "nbformat_minor": 0
}
