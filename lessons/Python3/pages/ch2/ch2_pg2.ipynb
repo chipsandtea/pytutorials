{
 "cells": [
  {
   "cell_type": "markdown",
   "metadata": {
    "collapsed": true
   },
   "source": [
    "# Chapter 2: Order of Operations, String Operations, Comments, and Debugging\n",
    "**Christopher Hsiao - v1.0**\n",
    "\n",
    "---\n",
    "\n",
    "## 2.5 Order of Operations\n",
    "\n",
    "**PEMDAS** is an acronym for the order of operations mathematical operators follow in `Python`. \n",
    "\n",
    "**P**arentheses hold the highest precedence. You can use parentheses to force an expression to be evaluated in whatever order you want. Often times, it may be a good idea to just play it safe and use parentheses to guarantee behavior."
   ]
  },
  {
   "cell_type": "code",
   "execution_count": 2,
   "metadata": {
    "collapsed": false
   },
   "outputs": [
    {
     "data": {
      "text/plain": [
       "8"
      ]
     },
     "execution_count": 2,
     "metadata": {},
     "output_type": "execute_result"
    }
   ],
   "source": [
    "2*(1+3)"
   ]
  },
  {
   "cell_type": "markdown",
   "metadata": {},
   "source": [
    "**E**xponentiation has the next highest precedence."
   ]
  },
  {
   "cell_type": "code",
   "execution_count": 4,
   "metadata": {
    "collapsed": false
   },
   "outputs": [
    {
     "data": {
      "text/plain": [
       "29"
      ]
     },
     "execution_count": 4,
     "metadata": {},
     "output_type": "execute_result"
    }
   ],
   "source": [
    "2+3**3"
   ]
  },
  {
   "cell_type": "markdown",
   "metadata": {},
   "source": [
    "**M**ultiplication and **D**ivision follow, and hold precedence over Addition and Subtraction."
   ]
  },
  {
   "cell_type": "code",
   "execution_count": 6,
   "metadata": {
    "collapsed": false
   },
   "outputs": [
    {
     "data": {
      "text/plain": [
       "14"
      ]
     },
     "execution_count": 6,
     "metadata": {},
     "output_type": "execute_result"
    }
   ],
   "source": [
    "3*4+2"
   ]
  },
  {
   "cell_type": "code",
   "execution_count": 8,
   "metadata": {
    "collapsed": false
   },
   "outputs": [
    {
     "data": {
      "text/plain": [
       "2.0"
      ]
     },
     "execution_count": 8,
     "metadata": {},
     "output_type": "execute_result"
    }
   ],
   "source": [
    "6/2-1"
   ]
  },
  {
   "cell_type": "markdown",
   "metadata": {},
   "source": [
    "**A**ddition and **S**ubtraction are the last. Operations are performed from left to right. If you cannot tell immediately what the expected behavior of an expression is, just use parentheses.\n",
    "\n",
    "---\n",
    "\n",
    "## 2.6 String Operations\n",
    "\n",
    "For the most part, you can't perform mathematical operations on Strings, since Strings have no concept of numerical value. As such, the following expressions are illegal:"
   ]
  },
  {
   "cell_type": "code",
   "execution_count": 15,
   "metadata": {
    "collapsed": false
   },
   "outputs": [
    {
     "name": "stderr",
     "output_type": "stream",
     "text": [
      "Traceback (most recent call last):\n",
      "  File \"<stdin>\", line 1, in <module>\n",
      "TypeError: unsupported operand type(s) for -: 'str' and 'str'\n"
     ]
    }
   ],
   "source": [
    "%%python3\n",
    "'2'-'1'"
   ]
  },
  {
   "cell_type": "code",
   "execution_count": 14,
   "metadata": {
    "collapsed": false
   },
   "outputs": [
    {
     "name": "stderr",
     "output_type": "stream",
     "text": [
      "Traceback (most recent call last):\n",
      "  File \"<stdin>\", line 1, in <module>\n",
      "TypeError: unsupported operand type(s) for /: 'str' and 'str'\n"
     ]
    }
   ],
   "source": [
    "%%python3\n",
    "'eggs'/'easy'"
   ]
  },
  {
   "cell_type": "code",
   "execution_count": 17,
   "metadata": {
    "collapsed": false
   },
   "outputs": [
    {
     "name": "stderr",
     "output_type": "stream",
     "text": [
      "Traceback (most recent call last):\n",
      "  File \"<stdin>\", line 1, in <module>\n",
      "TypeError: can't multiply sequence by non-int of type 'str'\n"
     ]
    }
   ],
   "source": [
    "%%python3\n",
    "'third'*'a charm'"
   ]
  },
  {
   "cell_type": "markdown",
   "metadata": {},
   "source": [
    "In each of these cases, the operator returns a `TypeError`, which means the variables given to the operator were invalid.\n",
    "\n",
    "*However*, there are exceptions to this rule, as certain operators have different behaviors. These are the `+` and `*` operators.\n",
    "\n",
    "The `+` operator on strings performs **string concatenation**, which means the strings are glued together left to right, end to tip. For example:"
   ]
  },
  {
   "cell_type": "code",
   "execution_count": 19,
   "metadata": {
    "collapsed": false
   },
   "outputs": [
    {
     "data": {
      "text/plain": [
       "'12'"
      ]
     },
     "execution_count": 19,
     "metadata": {},
     "output_type": "execute_result"
    }
   ],
   "source": [
    "'1'+'2'"
   ]
  },
  {
   "cell_type": "code",
   "execution_count": 21,
   "metadata": {
    "collapsed": false
   },
   "outputs": [
    {
     "data": {
      "text/plain": [
       "'OpenDNS'"
      ]
     },
     "execution_count": 21,
     "metadata": {},
     "output_type": "execute_result"
    }
   ],
   "source": [
    "first = 'Open'\n",
    "second = 'DNS'\n",
    "first + second"
   ]
  },
  {
   "cell_type": "markdown",
   "metadata": {},
   "source": [
    "The `*` operator on strings performs repetition. It allows us to 'multiply' a string with a number. For example:"
   ]
  },
  {
   "cell_type": "code",
   "execution_count": 25,
   "metadata": {
    "collapsed": false
   },
   "outputs": [
    {
     "data": {
      "text/plain": [
       "'OpenDNSOpenDNSOpenDNS'"
      ]
     },
     "execution_count": 25,
     "metadata": {},
     "output_type": "execute_result"
    }
   ],
   "source": [
    "'OpenDNS' * 3"
   ]
  },
  {
   "cell_type": "markdown",
   "metadata": {},
   "source": [
    "It's a fairly analogous concept to multiplication and addition in mathematics, in the sense that `'OpenDNS' * 3`  ==  `'OpenDNS' + 'OpenDNS' + 'OpenDNS'`\n",
    "\n",
    "---\n",
    "\n",
    "## 2.7 Comments\n",
    "\n",
    "Often times, code can get pretty complicated or difficult to read by someone who didn't write the code. Sometimes people just want to use your code and not have to deal with learning its behavior by reading the code and understanding the nuances. For this reason, it is very highly recommended that any developer add some notes to their code, known as `comments`.\n",
    "\n",
    "**comments** are little snippes of code that do nothing but allow the developer a way to add notes using natural language. In `Python`, comments begin with a `#` symbol, and everything after is simply ignored by the interpreter. Here are some example uses of comments."
   ]
  },
  {
   "cell_type": "code",
   "execution_count": 27,
   "metadata": {
    "collapsed": false
   },
   "outputs": [
    {
     "data": {
      "text/plain": [
       "168"
      ]
     },
     "execution_count": 27,
     "metadata": {},
     "output_type": "execute_result"
    }
   ],
   "source": [
    "# compute the number of hours in a week\n",
    "24 * 7"
   ]
  },
  {
   "cell_type": "markdown",
   "metadata": {},
   "source": [
    "Comments don't necessarily need to go on their own line. Remember, the interpreter only ignores things to the *right* of the `#` symbol."
   ]
  },
  {
   "cell_type": "code",
   "execution_count": 29,
   "metadata": {
    "collapsed": false
   },
   "outputs": [
    {
     "data": {
      "text/plain": [
       "168"
      ]
     },
     "execution_count": 29,
     "metadata": {},
     "output_type": "execute_result"
    }
   ],
   "source": [
    "24 * 7 # compute the number of hours in a week"
   ]
  },
  {
   "cell_type": "markdown",
   "metadata": {},
   "source": [
    "Writing smart comments is a very important trait in a programmer. While it could be helpful to explain what some code does, it is more useful to explain *why* it does what it does.\n",
    "\n",
    "For example, the following is redundant."
   ]
  },
  {
   "cell_type": "code",
   "execution_count": 31,
   "metadata": {
    "collapsed": true
   },
   "outputs": [],
   "source": [
    "h = 24 # sets h variable to 24"
   ]
  },
  {
   "cell_type": "markdown",
   "metadata": {},
   "source": [
    "As opposed to the following:"
   ]
  },
  {
   "cell_type": "code",
   "execution_count": 33,
   "metadata": {
    "collapsed": true
   },
   "outputs": [],
   "source": [
    "h = 24 # hours in a day"
   ]
  },
  {
   "cell_type": "markdown",
   "metadata": {},
   "source": [
    "<div class=\"alert alert-info\">There is a tradeoff between the need for comments and variable names. Long names can be very explicit and reduce the need for comments, but can make some complicated expressions difficult to read.</div>"
   ]
  },
  {
   "cell_type": "markdown",
   "metadata": {},
   "source": [
    "---\n",
    "\n",
    "## 2.8 Debugging\n",
    "\n",
    "There are three kinds of errors that can occur in a program: syntax errors, runtime errors, and semantic errors. Identifying these errors and their solutions take experience, but will come fairly naturally with enough practice.\n",
    "\n",
    "**Syntax error:** refers to a flaw in the structure of the program. If a syntax error exists anywhere in your program, `Python` will display an error message and quit before running any code. With experience, you'll deal less and less with syntax errors."
   ]
  },
  {
   "cell_type": "code",
   "execution_count": 36,
   "metadata": {
    "collapsed": false
   },
   "outputs": [
    {
     "ename": "SyntaxError",
     "evalue": "invalid syntax (<ipython-input-36-f78ffcb5c1e0>, line 1)",
     "output_type": "error",
     "traceback": [
      "\u001b[0;36m  File \u001b[0;32m\"<ipython-input-36-f78ffcb5c1e0>\"\u001b[0;36m, line \u001b[0;32m1\u001b[0m\n\u001b[0;31m    if\u001b[0m\n\u001b[0m      ^\u001b[0m\n\u001b[0;31mSyntaxError\u001b[0m\u001b[0;31m:\u001b[0m invalid syntax\n"
     ]
    }
   ],
   "source": [
    "if"
   ]
  },
  {
   "cell_type": "markdown",
   "metadata": {},
   "source": [
    "**Runtime error:** is an error that occurs while the program is running. Often times, these yield **exceptions**, which lets us know that something unexpected and unaccounted for has occured, and the program cannot continue. For example, the following code throws an **exception**, can you determine why?"
   ]
  },
  {
   "cell_type": "code",
   "execution_count": 41,
   "metadata": {
    "collapsed": false
   },
   "outputs": [
    {
     "name": "stdout",
     "output_type": "stream",
     "text": [
      "Enter your name: Chris\n"
     ]
    },
    {
     "ename": "TypeError",
     "evalue": "Can't convert 'int' object to str implicitly",
     "output_type": "error",
     "traceback": [
      "\u001b[0;31m---------------------------------------------------------------------------\u001b[0m",
      "\u001b[0;31mTypeError\u001b[0m                                 Traceback (most recent call last)",
      "\u001b[0;32m<ipython-input-41-1bb3c40bd674>\u001b[0m in \u001b[0;36m<module>\u001b[0;34m()\u001b[0m\n\u001b[1;32m      1\u001b[0m \u001b[0mname\u001b[0m \u001b[0;34m=\u001b[0m \u001b[0minput\u001b[0m\u001b[0;34m(\u001b[0m\u001b[0;34m'Enter your name: '\u001b[0m\u001b[0;34m)\u001b[0m\u001b[0;34m\u001b[0m\u001b[0m\n\u001b[0;32m----> 2\u001b[0;31m \u001b[0mname\u001b[0m \u001b[0;34m+\u001b[0m \u001b[0;36m5\u001b[0m\u001b[0;34m\u001b[0m\u001b[0m\n\u001b[0m",
      "\u001b[0;31mTypeError\u001b[0m: Can't convert 'int' object to str implicitly"
     ]
    }
   ],
   "source": [
    "name = input('Enter your name: ')\n",
    "name + 5"
   ]
  },
  {
   "cell_type": "markdown",
   "metadata": {},
   "source": [
    "**Semantic error:** isn't an error with the syntax of the code itself, or with any of the types of data. The error, then, lies in the *expressions* of the code. The code is completely valid, but it just does the wrong thing. Often times it can be tricky to identify the sources of semantic errors, especially when you're not sure where (in a large program for example) the error comes from. It's highly recommended to check the values of certain variables to serve as \"checkpoints\". \n",
    "\n",
    "---\n",
    "\n",
    "## 2.9 Exercises\n",
    "\n",
    "Exercises will posted and solved through: [SE Programming Exercises HackerRank Portal](https://www.hackerrank.com/se-programming-exercises). Bookmark this page for future reference, and sign up for an account to enter the contest page. It isn't actually a contest, just a way for questions to be easily posted and graded. Each week, several programming exercises will be posted to be completed, and will be due at the end of the week. \n",
    "\n",
    "### This weeks programming exercises:\n",
    "\n",
    "* Say \"Hello, World!\" With Python - Just to get a feel for the HackerRank interface and assignment submission.\n",
    "* Reading Raw Input - Understand how to get data from the user.\n",
    "* Arithmetic Operators - Understand using Arithmetic Operators\n",
    "* Python: Division - Understand how `//` and `/` differ in Python.\n",
    "\n",
    "---\n",
    "\n",
    "<a class=\"btn btn-success\" href=\"../../index.ipynb\" role=\"button\">Return to Main</a>"
   ]
  }
 ],
 "metadata": {
  "kernelspec": {
   "display_name": "Python 3",
   "language": "python",
   "name": "python3"
  },
  "language_info": {
   "codemirror_mode": {
    "name": "ipython",
    "version": 3
   },
   "file_extension": ".py",
   "mimetype": "text/x-python",
   "name": "python",
   "nbconvert_exporter": "python",
   "pygments_lexer": "ipython3",
   "version": "3.5.2"
  }
 },
 "nbformat": 4,
 "nbformat_minor": 1
}
