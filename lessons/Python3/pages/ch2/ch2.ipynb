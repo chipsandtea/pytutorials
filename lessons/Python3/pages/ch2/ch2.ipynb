{
 "cells": [
  {
   "cell_type": "markdown",
   "metadata": {
    "collapsed": true
   },
   "source": [
    "# Chapter 2: Variables, Expressions, and Statements\n",
    "**Christopher Hsiao - v1.0**\n",
    "\n",
    "**variables** are the tools used to store, manipulate, and return data. Using a variables name refers to its value.\n",
    "\n",
    "## 2.1 Assignment\n",
    "\n",
    "**Assignment** creates a new variable and *assigns* it a value. Assignment is done using the `=` operator.\n",
    "\n",
    "Let's try assigning some values.\n",
    "    \n",
    "    >>> message = 'Hello, OpenDNS!'\n",
    "    Hello, OpenDNS!\n",
    "    >>> num = 17\n",
    "    17\n",
    "\n",
    "This allows us to store values for later use. Now, instead of printing the string `'Hello, OpenDNS'`, we can print the variable `message`, and it will give us its value.\n",
    "\n",
    "    >>> print(message)\n",
    "    Hello, OpenDNS!\n",
    "    >>> print(num)\n",
    "    17\n",
    "\n",
    "---\n",
    "\n",
    "## 2.2 Variable Names\n",
    "\n",
    "Learning what to call your variables is actually a very important skill that, for the most part, is picked up through experience. However, there are some rules that must be followed just to first make sure your variable name is valid.\n",
    "\n",
    "**What's Legal:** \n",
    "* Variable can be any length. \n",
    "* They can't *begin* with a number, but can have both numbers and letters within them. \n",
    "* You can also use both lower case and upper case letters in your variable names. \n",
    "* You'll often see the underscore `_` used, since variable names can't have spaces.\n",
    "\n",
    "Invalid variable names return a `SyntaxError`.\n",
    "\n",
    "**Beginning with a number:**"
   ]
  },
  {
   "cell_type": "code",
   "execution_count": 10,
   "metadata": {
    "collapsed": false
   },
   "outputs": [
    {
     "name": "stderr",
     "output_type": "stream",
     "text": [
      "  File \"<stdin>\", line 1\n",
      "    1variableName = 3\n",
      "                ^\n",
      "SyntaxError: invalid syntax\n"
     ]
    }
   ],
   "source": [
    "%%python3\n",
    "1variableName = 3"
   ]
  },
  {
   "cell_type": "markdown",
   "metadata": {},
   "source": [
    "**Invalid symbols:**"
   ]
  },
  {
   "cell_type": "code",
   "execution_count": 8,
   "metadata": {
    "collapsed": false
   },
   "outputs": [
    {
     "name": "stderr",
     "output_type": "stream",
     "text": [
      "  File \"<stdin>\", line 1\n",
      "    hello@ = 5\n",
      "           ^\n",
      "SyntaxError: invalid syntax\n"
     ]
    }
   ],
   "source": [
    "%%python3\n",
    "hello@ = 5"
   ]
  },
  {
   "cell_type": "markdown",
   "metadata": {},
   "source": [
    "Another condition for an invalid variable name is using a *keyword*. Keywords are words that have special predefined meanings and uses within `Python`. As a matter of fact, all high level languages have *keywords* of some form. If you attempt to assign a keyword a value as if it were a variable, you'll also get a `SyntaxError`."
   ]
  },
  {
   "cell_type": "code",
   "execution_count": 9,
   "metadata": {
    "collapsed": false
   },
   "outputs": [
    {
     "name": "stderr",
     "output_type": "stream",
     "text": [
      "  File \"<stdin>\", line 1\n",
      "    class = 'Physics 101'\n",
      "          ^\n",
      "SyntaxError: invalid syntax\n"
     ]
    }
   ],
   "source": [
    "%%python3\n",
    "class = 'Physics 101'"
   ]
  },
  {
   "cell_type": "markdown",
   "metadata": {},
   "source": [
    "Here's a list of all the keywords in `Python 3`:\n",
    "\n",
    "    False  class    finally is       return\n",
    "    None   continue for     lambda   try\n",
    "    True   def      from    nonlocal while\n",
    "    and    del      global  not      with\n",
    "    as     elif     if      or       yield\n",
    "    assert else     import  pass\n",
    "    break  except   in      raise\n",
    "    \n",
    "Don't worry, you won't need to memorize these. Most text editors or development environments are highlighted, underlined, or displayed in a different color.\n",
    "\n",
    "---\n",
    "\n",
    "## 2.3 Expressions and Statements \n",
    "\n",
    "An **expression** is a combination of values, variables, and operators. Some legal expressions are:"
   ]
  },
  {
   "cell_type": "code",
   "execution_count": 13,
   "metadata": {
    "collapsed": false
   },
   "outputs": [
    {
     "data": {
      "text/plain": [
       "42"
      ]
     },
     "execution_count": 13,
     "metadata": {},
     "output_type": "execute_result"
    }
   ],
   "source": [
    "42"
   ]
  },
  {
   "cell_type": "code",
   "execution_count": 19,
   "metadata": {
    "collapsed": false
   },
   "outputs": [
    {
     "data": {
      "text/plain": [
       "42"
      ]
     },
     "execution_count": 19,
     "metadata": {},
     "output_type": "execute_result"
    }
   ],
   "source": [
    "n = 17\n",
    "n + 25"
   ]
  },
  {
   "cell_type": "markdown",
   "metadata": {},
   "source": [
    "A **statement** is a bit of code that has some effect, such as initializing a variable, or printing some value."
   ]
  },
  {
   "cell_type": "code",
   "execution_count": 20,
   "metadata": {
    "collapsed": false
   },
   "outputs": [
    {
     "name": "stdout",
     "output_type": "stream",
     "text": [
      "17\n"
     ]
    }
   ],
   "source": [
    "x = 17\n",
    "print(x)"
   ]
  },
  {
   "cell_type": "markdown",
   "metadata": {},
   "source": [
    "Here, we first assign the value 17 to the variable `x`, then call the print() function on it to print the value of `x`.\n",
    "\n",
    "---\n",
    "\n",
    "## 2.4 Script Mode\n",
    "\n",
    "Thus far, the commands we've run were all done in **interactive mode** through the `interpreter`. While this is useful for quickly executing small snippets of code, it can be very cumbersome when attempting to execute anything more than a few lines.\n",
    "\n",
    "Instead, what is most commonly done is to have the code saved to a file known as a **script**, which typically takes the form of a file ending in **.py**. \n",
    "\n",
    "Expressions in the interpreter have the effect of outputting the value of the expression. For example, if you were using the `Python 3` interpreter as a calculator to calculate `25 * 49`, you'd see something like this:"
   ]
  },
  {
   "cell_type": "code",
   "execution_count": 22,
   "metadata": {
    "collapsed": false
   },
   "outputs": [
    {
     "data": {
      "text/plain": [
       "1225"
      ]
     },
     "execution_count": 22,
     "metadata": {},
     "output_type": "execute_result"
    }
   ],
   "source": [
    "25*49"
   ]
  },
  {
   "cell_type": "markdown",
   "metadata": {},
   "source": [
    "However, if you have a file with an expression in it, there won't be a valued displayed. For example, we have a file called `expressionDemo.py`, which stores the above single line of code (`25 * 49`). We can execute scripts with \n",
    "\n",
    "    python3 [script.py]\n",
    "    \n",
    "So let's give it a try. First let's verify the code inside the file with `cat`."
   ]
  },
  {
   "cell_type": "code",
   "execution_count": 31,
   "metadata": {
    "collapsed": false
   },
   "outputs": [
    {
     "name": "stdout",
     "output_type": "stream",
     "text": [
      "25*49\n"
     ]
    }
   ],
   "source": [
    "%%bash\n",
    "cat expressionDemo.py"
   ]
  },
  {
   "cell_type": "markdown",
   "metadata": {},
   "source": [
    "Great, now let's actually run it."
   ]
  },
  {
   "cell_type": "code",
   "execution_count": 30,
   "metadata": {
    "collapsed": false
   },
   "outputs": [],
   "source": [
    "%%bash\n",
    "python3 expressionDemo.py"
   ]
  },
  {
   "cell_type": "markdown",
   "metadata": {},
   "source": [
    "<div class=\"alert alert-info\">Recall we need to execute the script from the <code>bash</code> using the <code>python3</code> command.</div> \n",
    "\n",
    "Note how there is no output. If we want output from expressions, we need to explicitely add `print()` statements to our code. \n",
    "\n",
    "If we modify the code in `expressionDemo.py` to `print(25 * 49)`, then we will see the output of `1225`."
   ]
  },
  {
   "cell_type": "markdown",
   "metadata": {},
   "source": [
    "### Exercise: Write Your First Script!\n",
    "\n"
   ]
  }
 ],
 "metadata": {
  "kernelspec": {
   "display_name": "Python 3",
   "language": "python",
   "name": "python3"
  },
  "language_info": {
   "codemirror_mode": {
    "name": "ipython",
    "version": 3
   },
   "file_extension": ".py",
   "mimetype": "text/x-python",
   "name": "python",
   "nbconvert_exporter": "python",
   "pygments_lexer": "ipython3",
   "version": "3.5.2"
  }
 },
 "nbformat": 4,
 "nbformat_minor": 1
}
