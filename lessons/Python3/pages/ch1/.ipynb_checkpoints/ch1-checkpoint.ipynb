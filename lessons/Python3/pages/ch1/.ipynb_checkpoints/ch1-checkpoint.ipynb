{
 "cells": [
  {
   "cell_type": "markdown",
   "metadata": {},
   "source": [
    "# Chapter 1: What are programs, and how do they work?\n",
    "**Christopher Hsiao - v1.0**\n",
    "\n",
    "## Introduction\n",
    "The goal of this tutorial is for you to learn how to think like a computer scientist. Programming really is a means to an end, and a way for us to apply our problem solving skills. First, we'll learn about what exactly a program is, their components, and how everything comes together.\n",
    "\n",
    "<br/>\n",
    "<div class=\"alert alert-info\">To do this, we'll be using the programming language Python. If you don't have it yet (and the associated package managers), please check out the guide found <a href=\"../setup.ipynb\">here</a>.</div>\n",
    "\n",
    "---\n",
    "\n",
    "## 1.1 What is a program?\n",
    "Programs are a series of instructions, that explicitely defines the behavior of a machine by executing commands and computations. There are tons of different instructions you can give a machine to execute, but (for the most part) all languages have some very important types of instructions.\n",
    "\n",
    "**input: ** Gets information from forms of input, such as files, keyboards, the network, or any other sort of input device.\n",
    "\n",
    "**output: ** Returns data to the user by displaying it on the screen, saving it in a file/device, sending it back over a network, etc.\n",
    "\n",
    "**math: ** Basic mathematical operations. More complicated math (such as Calculus, Linear Algebra, Statistics, etc.) can be found elsewhere.\n",
    "\n",
    "**conditionals: ** Checking for \"conditions\", and running specific code as a result of these conditions.\n",
    "\n",
    "**loops/repetition: ** Repeating an action, generally with some variation.\n",
    "\n",
    "Programs can basically be deconstructed into a combination of these types of commands linking together other general instructions. It is helpful to think of programming as the process of breaking problems into smaller and smaller subtasks.\n",
    "\n",
    "---"
   ]
  },
  {
   "cell_type": "markdown",
   "metadata": {},
   "source": [
    "## 1.2 Running Python\n",
    "\n",
    "To Python on its own, you can run the Python **interpreter**. What this does is read in Python code, and executes it on the fly. You can execute it by typing `python` for Python2, or `python3` for Python3. We'll be using Python3 for this tutorial. When you execute the command, you should see some output similar to this:\n",
    "\n",
    "    Python 3.5.2 (default, Jul 28 2016, 21:28:00)\n",
    "    [GCC 4.2.1 Compatible Apple LLVM 7.3.0 (clang-703.0.31)] on darwin\n",
    "    Type \"help\", \"copyright\", \"credits\" or \"license\" for more information.\n",
    "    >>>\n",
    "    \n",
    "There may be some differences with regards to certain details on the second line, but what is important is what's on the first line. Make sure that you're running the correct Python version for your needs, in this case: Python 3.\n",
    "\n",
    "On the fourth line, we see `>>>`, which is what's known as the **prompt**. The prompt is the interpreters way to indicate that it is ready for you to enter code - until you see it, expect it to be unresponsive to whatever you do. As a note, if you're ever running code and want to abort an operation, enter `Ctrl c`, which will interrupt the operations and exit out of the last call made.\n",
    "\n",
    "Let's start playing around with Python, shall we? We can write some code here and press Enter.\n",
    "\n",
    "    >>> 5 + 5\n",
    "    10\n",
    "    \n",
    "<div class=\"alert alert-success\">If everything leading up to this point has worked, that's great! You're ready to continue. If not, verify that you didn't miss any steps from the <a herf=\"../setup.ipynb\">setup</a>.</div>\n",
    "\n",
    "---"
   ]
  },
  {
   "cell_type": "markdown",
   "metadata": {},
   "source": [
    "## 1.3 Your First Program: Hello OpenDNS!\n",
    "\n",
    "Traditionally speaking, the first program tutorials will have you write is one that prints `\"Hello, World!\"` to the screen. Let's try a slightly modified version. In order to print to the screen, we'll use the `print()` function. The syntax for this command looks like this:\n",
    "\n",
    "    print('Some String of Text')\n",
    "\n",
    "Let's give it a try!"
   ]
  },
  {
   "cell_type": "code",
   "execution_count": 22,
   "metadata": {
    "collapsed": false
   },
   "outputs": [
    {
     "name": "stdout",
     "output_type": "stream",
     "text": [
      "Hello, OpenDNS!\n"
     ]
    }
   ],
   "source": [
    "print('Hello, OpenDNS!')"
   ]
  },
  {
   "cell_type": "markdown",
   "metadata": {},
   "source": [
    "<div class=\"alert alert-success\">Great, it works! Congratulations, you've just run your first program in Python!</div>\n",
    "\n",
    "For `Python2` users, the print statement is slightly different. `print` isn't actually a function in `Python2`, and as such doesn't require parentheses. Those calls look like this:\n",
    "    \n",
    "    >>> print 'Hello, OpenDNS!'\n",
    "    Hello, OpenDNS!\n",
    "----"
   ]
  },
  {
   "cell_type": "markdown",
   "metadata": {},
   "source": [
    "## 1.4 Arithmetic Operations\n",
    "\n",
    "You've already gotten a taste of how to add back in *1.2*. We'll be building on that by going over some of the mathematical **operators** built into `Python`. Operators are unique symbols that represent some computation.\n",
    "\n",
    "**Addition**\n",
    "    >>> 10 + 15\n",
    "    25\n",
    "\n",
    "**Subtraction**\n",
    "    >>> 7 - 3\n",
    "    4\n",
    "    \n",
    "**Multiplication**\n",
    "    >>> 4 * 5\n",
    "    20\n",
    "    \n",
    "Division gets a little different. There are two operators for doing division, and each returns a slightly different value: `/` and `//`. \n",
    "\n",
    "Generally speaking, one is safe to assume that the general division operator is the `/`. Let's use it first just to see what we get from it.\n",
    "\n",
    "    >>> 23/3\n",
    "    7.666666666666667\n",
    "\n",
    "Note that it has a decimal. It's important to note that this means it's **not** an integer, but instead what's known as a **float**, the `type` of decimal numbers.\n",
    "\n",
    "Let's use the second operator now.\n",
    "    \n",
    "    >>> 23//3\n",
    "    7\n",
    "\n",
    "As we can see, the decimal disappeared. Using the `//` operator forces the output to be an integer. However, note that it does not round the value down to 7, it simply **truncates** the decimal values, which is to say it chops them off. There are ways to round using the `round()` function.\n",
    "\n",
    "---"
   ]
  },
  {
   "cell_type": "markdown",
   "metadata": {},
   "source": [
    "## 1.5 Values and Types\n",
    "\n",
    "We have already seen several values and types of data through this tutorial! Let's talk about these values quickly, and understand what it means to be a `type` of something.\n",
    "\n",
    "Values belong to types. Types allow `Python` to know what to do with data it is given, and determine what kind of behavior the data should have. Some values we've seen are: \n",
    "\n",
    "    20, 7.66666..., 'Hello, OpenDNS!\n",
    "    \n",
    "`20` is an integer (`int`), `7.6666...` is a float, and `'Hello, OpenDNS!'` is a string (`str`). If you're ever unsure about the type of a language, `Python` has a built in `type()` function that returns the type of an object. Let's try verifying these value types through the interpreter!\n",
    "\n",
    "    >>> type(20)\n",
    "    <class 'int'>\n",
    "    >>> type(7.66666)\n",
    "    <class 'float'>\n",
    "    >>> type('Hello, OpenDNS!')\n",
    "    <class 'str'>\n",
    "    \n",
    "The word `class` found in these outputs represents a category. You can think of a `type` as a category of values.\n",
    "\n",
    "Notice that `'Hello, OpenDNS!'` has quotes around them. Why do we need these? What happens if we put quotes around `20` and `7.66666`? What type would they be?\n",
    "\n",
    "    >>> type('20')\n",
    "    <class 'str'>\n",
    "    >>> type('7.66666')\n",
    "    <class 'str'>\n",
    "    \n",
    "They're strings! This means we've converted these values to strings. Another way to convert values to strings is using the builtin `str()` function. You can convert these values back to `integers` and `floats` using `ints()` and `float()` as well."
   ]
  },
  {
   "cell_type": "markdown",
   "metadata": {},
   "source": [
    "## 1.6 Exercises\n",
    "\n",
    "It's important in programming to understand the behavior of your tools both when they work, and when they don't. Knowing when and why something may break is just as important as knowing when and why something will work smoothly. These are some simple exercises to demonstrate what I mean.\n",
    "\n",
    "1. In a print statement, what happens if you leave out one of the parentheses, or both?\n",
    "2. If you are trying to print a string, what happens if you leave out one of the quotation marks,\n",
    "or both?\n",
    "3. You can use a minus sign to make a negative number like -2. What happens if you put a plus sign before a number? What about 2++2?\n",
    "4. In math notation, leading zeros are ok, as in 02. What happens if you try this in Python?\n",
    "5. What happens if you have two values with no operator between them?\n",
    "\n",
    "**Exercise 1.2:** Start the Python interpreter and use it as a calculator.\n",
    "\n",
    "1. How many seconds are there in 42 minutes 42 seconds?\n",
    "2. How many miles are there in 10 kilometers? Hint: there are 1.61 kilometers in a mile.\n",
    "3. If you run a 10 kilometer race in 42 minutes 42 seconds, what is your average pace (time per\n",
    "mile in minutes and seconds)? What is your average speed in miles per hour?\n",
    "\n",
    "<sup>These exercises are from page 7 of Think Python 2e, by Allen Downey).</sup>\n",
    "\n",
    "---\n",
    "\n",
    "<a class=\"btn btn-success\" href=\"../../index.ipynb\" role=\"button\">Return to Main</a>  <a class=\"btn btn-success\" href=\"../ch2/ch2_pg1.ipynb\" role=\"button\">Chapter 2</a>"
   ]
  }
 ],
 "metadata": {
  "kernelspec": {
   "display_name": "Python 3",
   "language": "python",
   "name": "python3"
  },
  "language_info": {
   "codemirror_mode": {
    "name": "ipython",
    "version": 3
   },
   "file_extension": ".py",
   "mimetype": "text/x-python",
   "name": "python",
   "nbconvert_exporter": "python",
   "pygments_lexer": "ipython3",
   "version": "3.5.2"
  }
 },
 "nbformat": 4,
 "nbformat_minor": 1
}
