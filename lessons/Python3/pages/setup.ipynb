{
 "cells": [
  {
   "cell_type": "markdown",
   "metadata": {},
   "source": [
    "## Setup Python\n",
    "\n",
    "A very important tool is a package manager. **Package managers** make it very easy to simply install any packages or modules you may want or need to augment your workflow, or enable some program. There are two primary package managers that are used: Homebrew (for OSX), and `pip/pip3` (for python modules and libraries).\n",
    "\n",
    "### Installing Homebrew\n",
    "\n",
    "[Homebrew](brew.sh) can be installed by entering the following line (from their website) into your terminal.\n",
    "\n",
    "    /usr/bin/ruby -e \"$(curl -fsSL https://raw.githubusercontent.com/Homebrew/install/master/install)\"\n",
    "\n",
    "It may prompt you to continue with the installation several times. Just follow any onscreen instructions and let it do its thing\n",
    "\n",
    "\n",
    "---\n",
    "\n",
    "Have Homebrew installed? Great! Let's start by installing some packages.\n",
    "\n",
    "Package installations can be initiated via the following syntax:\n",
    "\n",
    "    brew install [package ...]\n",
    "    \n",
    "Some packages to install are:\n",
    "* `wget` - for simple highspeed file transfer\n",
    "* `git` - version control system. **Extremely** powerful and useful\n",
    "* `cask` - Install software through homebrew (such as Spotify!) via `brew cask install [package name]`\n",
    "* `trash` - Delete files by moving them to your trash, instead of them vanishing (like when using rm)\n",
    "* `python3` - The language we'll be using in all tutorials. Macs typically come with Python 2.7.* installed by default, so we just need to grab python3. This will also install `pip3`. To install `pip` (assuming your computer already has Python 2.7~ installed by default, go [here](https://pip.readthedocs.io/en/stable/installing/).\n",
    "\n",
    "<div class=\"alert alert-success\">Give these commands a try! You should be able to make calls just by typing in these command names into terminal. (Try making a file using <code>touch</code> and deleting it with <code>trash</code>. You should see the file in your trash!</div>\n",
    "\n",
    "If you are given commands that don't work because the terminal says some packages aren't recognized, it probably means that you simply don't have it installed. `brew install [package name]` is the solution to that problem!\n",
    "\n",
    "<div class=\"alert alert-info\">There are tons of brew packages you can install, including software packages that can be installed via <code>brew cask install [package name]</code>. Feel free to google lists of recommended brew packages and install them to your hearts content! Just make sure they're actually useful.</div>\n",
    "\n",
    "---\n",
    "\n",
    "### Using pip/pip3\n",
    "\n",
    "pip and pip3 are the package managers for **python modules and libraries**. Modules and libraries are code bases that implement something that we, as the developers, need to complete our task. However, we don't want to reinvent the wheel, as the saying goes, and would rather use someone elses (probably better) implementation. You'll commonly see libraries being used in scripts and code bases in general.\n",
    "\n",
    "**pip** is the package manager for Python2, and packages, libraries, or modules written in Python2 should be installed via this utility. The syntax is:\n",
    "\n",
    "    pip install [package ...]\n",
    "\n",
    "**pip** is the package manager for Python3, and packages, libraries, or modules written in Python3 should be installed via this utility. The syntax is:\n",
    "    \n",
    "    pip3 install [package ...]\n",
    "    \n",
    "<div class=\"alert alert-info\">Debugging Tip: If you ever find yourself facing a \"Module not found: some_module\" error after attempting to execute a script, try installing it via pip/pip3! Chances are it will install the packages you're missing and the script will work as intended.</div>\n",
    "\n",
    "---\n",
    "\n",
    "I won't be recommending Python2/3 packages here. Instead, I recommend learning to search up packages as you may need them (when a certain task seems so general that **someone** must have written a library for it), and working off those. As you work with more and more scripts, you'll build up a package base based on your wants and needs. This being said, however, there are many precompiled lists of very handy pip/pip3 packages that you're likely to encounter sooner or later. One of which can be found [here](https://pythontips.com/2013/07/30/20-python-libraries-you-cant-live-without/). Feel free to google for more curated lists.\n",
    "\n",
    "---\n",
    "\n",
    "<a class=\"btn btn-success\" href=\"../index.ipynb\" role=\"button\">Return to Main</a>"
   ]
  }
 ],
 "metadata": {
  "kernelspec": {
   "display_name": "Python 3",
   "language": "python",
   "name": "python3"
  },
  "language_info": {
   "codemirror_mode": {
    "name": "ipython",
    "version": 3
   },
   "file_extension": ".py",
   "mimetype": "text/x-python",
   "name": "python",
   "nbconvert_exporter": "python",
   "pygments_lexer": "ipython3",
   "version": "3.5.2"
  }
 },
 "nbformat": 4,
 "nbformat_minor": 1
}
