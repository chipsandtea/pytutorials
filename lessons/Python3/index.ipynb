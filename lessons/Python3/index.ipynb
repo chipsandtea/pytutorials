{
 "cells": [
  {
   "cell_type": "markdown",
   "metadata": {},
   "source": [
    "# Thinking in Python\n",
    "**By: Christopher Hsiao**\n",
    "\n",
    "This tutorial series will introduce you thinking with computer science as a base, while using Python as the medium we exercise these ideas in. To be sure, this is by no means an exhaustive tutorial. Instead, my goal with this tutorial is to provide a solid foundation for programming practices and concepts, enough to the extent where you can easily interact with scripts and apis.\n",
    "\n",
    "More specifically, this tutorial utilizes Python3 and all newer versions. Python2 is what may be already installed on your computer.\n",
    "\n",
    "## Table of Contents\n",
    "\n",
    "[Setup - Package Managers (Homebrew and pip/pip3)](pages/setup.ipynb)\n",
    "\n",
    "1. What is a Program? How do they work? \n",
    "2. Variables, Expresions, and Statements\n",
    "3. Functions\n",
    "4. Conditionals\n",
    "5. Strings\n",
    "6. Lists\n",
    "7. Dictionaries\n",
    "8. Tuples\n",
    "9. Files\n",
    "\n",
    "### Acknowledgements\n",
    "Huge thanks to Allen B. Downey and his freely provided textbooks found at [greenteapress](greenteapress.com/wp)."
   ]
  },
  {
   "cell_type": "code",
   "execution_count": null,
   "metadata": {
    "collapsed": true
   },
   "outputs": [],
   "source": []
  }
 ],
 "metadata": {
  "kernelspec": {
   "display_name": "Python 3",
   "language": "python",
   "name": "python3"
  },
  "language_info": {
   "codemirror_mode": {
    "name": "ipython",
    "version": 3
   },
   "file_extension": ".py",
   "mimetype": "text/x-python",
   "name": "python",
   "nbconvert_exporter": "python",
   "pygments_lexer": "ipython3",
   "version": "3.5.2"
  }
 },
 "nbformat": 4,
 "nbformat_minor": 1
}
