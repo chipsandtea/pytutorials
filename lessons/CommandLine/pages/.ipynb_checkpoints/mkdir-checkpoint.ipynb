{
 "cells": [
  {
   "cell_type": "markdown",
   "metadata": {},
   "source": [
    "## mkdir: make a new directory\n",
    "\n",
    "The `mkdir` command allows us to make a new directory (folder) at a specified location.\n",
    "\n",
    "The syntax for the mkdir command is as follows:\n",
    "\n",
    "    mkdir [directory path]\n",
    "    \n",
    "Assuming the directory doesn't already exist, of course. If it does already exist, you'll receive an error.\n",
    "\n",
    "Let's make a new directory called `playground` that we'll use later as an environment to try out commands."
   ]
  },
  {
   "cell_type": "code",
   "execution_count": 2,
   "metadata": {
    "collapsed": false
   },
   "outputs": [
    {
     "name": "stdout",
     "output_type": "stream",
     "text": [
      "/Users/chsiao/Tutorials/notebooks/CommandLine/pages/playground\n"
     ]
    }
   ],
   "source": [
    "%%bash\n",
    "mkdir playground\n",
    "cd playground\n",
    "pwd"
   ]
  },
  {
   "cell_type": "markdown",
   "metadata": {},
   "source": [
    "So, we've just created and entered a directory called playground.\n",
    "\n",
    "---\n",
    "\n",
    "[Next Section](rmdir.ipynb)\n",
    "\n",
    "[Return to Main Page](../Intro.ipynb)"
   ]
  }
 ],
 "metadata": {
  "kernelspec": {
   "display_name": "Python 3",
   "language": "python",
   "name": "python3"
  },
  "language_info": {
   "codemirror_mode": {
    "name": "ipython",
    "version": 3
   },
   "file_extension": ".py",
   "mimetype": "text/x-python",
   "name": "python",
   "nbconvert_exporter": "python",
   "pygments_lexer": "ipython3",
   "version": "3.5.2"
  }
 },
 "nbformat": 4,
 "nbformat_minor": 0
}
