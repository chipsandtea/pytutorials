{
 "cells": [
  {
   "cell_type": "markdown",
   "metadata": {},
   "source": [
    "## mv: move files \n",
    "\n",
    "The `mv` command moves files and their data around. Generally speaking, there are two applications to this command.\n",
    "<br/>\n",
    "<div class=\"alert alert-info\">1. Move files to specified directories.\n",
    "<br/>\n",
    "2. Move file data to a specified file (thus deleting the first file, and replacing the data of the second with the data of the first).</div>\n",
    "\n",
    "### 1. Move files to specified directories\n",
    "First, let's focus on moving files to specific directories. Recall that a while back, we created two files (`hello.txt` and `pwd.txt`) while learning about some commands. Let's move them into our `playground` folder.\n",
    "\n",
    "The syntax for `mv` is as follows:\n",
    "\n",
    "    mv [file1] [file2] ... [file n] [directory]\n",
    "    \n",
    "Which allows us to move as many files as we want to a certain directory."
   ]
  },
  {
   "cell_type": "code",
   "execution_count": 9,
   "metadata": {
    "collapsed": false
   },
   "outputs": [
    {
     "name": "stdout",
     "output_type": "stream",
     "text": [
      "hello.txt -> playground/hello.txt\n",
      "pwd.txt -> playground/pwd.txt\n"
     ]
    }
   ],
   "source": [
    "%%bash\n",
    "mv -v hello.txt pwd.txt playground"
   ]
  },
  {
   "cell_type": "markdown",
   "metadata": {},
   "source": [
    "<div class=\"alert alert-success\">As you can see, we've moved `hello.txt` and `pwd.txt` into our `playground` directory. We use the `-v` (verbose) tag to show files after they're moved.</div>\n",
    "\n",
    "### 2. Move file data to a specified file\n",
    "\n",
    "So, what if we wanted to combine some files together? `mv` also allows us to that. Let's combine our two files (`hello.txt` and `pwd.txt`), by replacing `pwd.txt`'s data with `hello.txt`'s data. \n",
    "\n",
    "We specify wanted to move file data instead of files by simply not specifying a destination directory. The syntax is as follows:\n",
    "\n",
    "    mv [source file] [destination file] \n",
    "    \n",
    "<div class=\"alert alert-warning\">Note we cannot \"combine\" more than two files, because it is unclear where we want to grab data, and where we want the data to go.</div>"
   ]
  },
  {
   "cell_type": "code",
   "execution_count": 11,
   "metadata": {
    "collapsed": false
   },
   "outputs": [
    {
     "name": "stdout",
     "output_type": "stream",
     "text": [
      "hello.txt -> pwd.txt\n"
     ]
    }
   ],
   "source": [
    "%%bash\n",
    "cd playground\n",
    "mv -v hello.txt pwd.txt"
   ]
  },
  {
   "cell_type": "markdown",
   "metadata": {},
   "source": [
    "So we can see that `mv -v` tells us that hello.txt has been moved into `pwd.txt`, effectively eliminating `hello.txt` the file, and replacing `pwd.txt`'s data with `hello.txt`'s data. \n",
    "\n",
    "Let's verify that."
   ]
  },
  {
   "cell_type": "code",
   "execution_count": 17,
   "metadata": {
    "collapsed": false
   },
   "outputs": [
    {
     "name": "stdout",
     "output_type": "stream",
     "text": [
      "Hello, OpenDNS!\n"
     ]
    }
   ],
   "source": [
    "%%bash\n",
    "cat pwd.txt"
   ]
  },
  {
   "cell_type": "markdown",
   "metadata": {},
   "source": [
    "<div class=\"alert alert-success\">As we can see, `pwd.txt`'s original text (which was the output of the `pwd` command piped to a text file), has been replaced by the text from `hello.txt`.</div>"
   ]
  },
  {
   "cell_type": "markdown",
   "metadata": {},
   "source": [
    "---\n",
    "\n",
    "[Next Section](cp.ipynb)\n",
    "\n",
    "[Return to Main Page](../Intro.ipynb)"
   ]
  }
 ],
 "metadata": {
  "kernelspec": {
   "display_name": "Python 3",
   "language": "python",
   "name": "python3"
  },
  "language_info": {
   "codemirror_mode": {
    "name": "ipython",
    "version": 3
   },
   "file_extension": ".py",
   "mimetype": "text/x-python",
   "name": "python",
   "nbconvert_exporter": "python",
   "pygments_lexer": "ipython3",
   "version": "3.5.2"
  }
 },
 "nbformat": 4,
 "nbformat_minor": 0
}
