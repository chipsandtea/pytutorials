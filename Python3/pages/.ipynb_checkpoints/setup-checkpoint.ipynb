{
 "cells": [
  {
   "cell_type": "markdown",
   "metadata": {},
   "source": [
    "## Setup Python\n",
    "\n",
    "A very important tool is a package manager. **Package managers** make it very easy to simply install any packages or modules you may need to augment your workflow, or enable some program. There are two primary package managers that are used: Homebrew (for OSX), and pip/pip3 (for python modules and libraries).\n",
    "\n",
    "### Installing Homebrew\n",
    "\n",
    "[Homebrew](brew.sh) can be installed by entering the following line (from their website) into your terminal.\n",
    "\n",
    "    /usr/bin/ruby -e \"$(curl -fsSL https://raw.githubusercontent.com/Homebrew/install/master/install)\"\n",
    "\n",
    "It may prompt you to continue with the installation several times. Just let its do its thing.\n",
    "\n",
    "---\n",
    "\n",
    "Have Homebrew installed? Great! Let's start by installing some packages.\n",
    "\n",
    "Package installations can be initiated via the following syntax:\n",
    "\n",
    "    brew install [package ...]\n",
    "    \n",
    "Some packages to install are:\n",
    "* `wget` - for simple highspeed file transfer\n",
    "* `git` - version control system. **Extremely** powerful and useful\n",
    "* `cask` - Install software through homebrew (such as Spotify!).\n",
    "* `trash` - Delete files by moving them to your trash, instead of them vanishing (like when using rm)\n",
    "* `python3` - The language we'll be using in all tutorials. Macs typically come with Python 2.7.* installed by default, so we just need to grab python3. This will also install `pip3`. To install `pip` (assuming your computer already has Python 2.7~ installed by default, go [here](https://pip.readthedocs.io/en/stable/installing/).\n",
    "\n",
    "<div class=\"alert alert-info\">There are tons of brew packages you can install, including software packages that can be installed via <code>brew cask install [package name]</code>. Feel free to google lists of recommended brew packages and install them to your hearts content! Just make sure they're actually useful.</div>\n",
    "\n",
    "### Using pip/pip3\n",
    "\n",
    "pip and pip3 are the package managers for **python modules and libraries**. Modules and libraries are code bases that implement something that we, as the developers, need to complete our task. However, we don't want to reinvent the wheel, as the saying goes, and would rather use someone elses (probably better) implementation. You'll commonly see libraries being used in scripts and code bases in general.\n",
    "\n",
    "**pip** is the package manager for Python2, and packages, libraries, or modules written in Python2 should be installed via this utility. The syntax is:\n",
    "\n",
    "    pip install [package ...]\n",
    "\n",
    "**pip** is the package manager for Python3, and packages, libraries, or modules written in Python3 should be installed via this utility. The syntax is:\n",
    "    \n",
    "    pip3 install [package ...]\n",
    "    \n",
    "<div class=\"alert alert-info\">Debugging Tip: If you ever find yourself facing a \"Module not found: some_module\" error after attempting to execute a script, try installing it via pip/pip3! Chances are it will install the packages you're missing and the script will work as intended.</div>\n",
    "\n",
    "I won't be recommending Python2/3 packages here. Instead, I recommend learning to search up packages as you may need them (when a certain task seems so general that **someone** must have written a library for it), and working off those. As you work with more and more scripts, you'll build up a package base based on your wants and needs."
   ]
  }
 ],
 "metadata": {
  "kernelspec": {
   "display_name": "Python 3",
   "language": "python",
   "name": "python3"
  },
  "language_info": {
   "codemirror_mode": {
    "name": "ipython",
    "version": 3
   },
   "file_extension": ".py",
   "mimetype": "text/x-python",
   "name": "python",
   "nbconvert_exporter": "python",
   "pygments_lexer": "ipython3",
   "version": "3.5.2"
  }
 },
 "nbformat": 4,
 "nbformat_minor": 1
}
